{
 "cells": [
  {
   "cell_type": "code",
   "execution_count": 35,
   "metadata": {
    "collapsed": true
   },
   "outputs": [],
   "source": [
    "graph = {'a': set(['b', 'c']),\n",
    "         'b': set(['a', 'd', 'e']),\n",
    "         'c': set(['a','f']),\n",
    "         'd': set(['b']),\n",
    "         'e': set(['b','f']),\n",
    "         'f': set(['c','e'])}"
   ]
  },
  {
   "cell_type": "code",
   "execution_count": 31,
   "metadata": {},
   "outputs": [],
   "source": [
    "def dfs(graph, start):\n",
    "    visited, stack = set(), [start]\n",
    "    while stack:\n",
    "        vertex = stack.pop()\n",
    "        if vertex not in visited:\n",
    "            visited.add(vertex)\n",
    "            stack.extend(graph[vertex] - visited)\n",
    "    return visited"
   ]
  },
  {
   "cell_type": "code",
   "execution_count": 32,
   "metadata": {},
   "outputs": [
    {
     "data": {
      "text/plain": [
       "{'a', 'b', 'c', 'd', 'e', 'f'}"
      ]
     },
     "execution_count": 32,
     "metadata": {},
     "output_type": "execute_result"
    }
   ],
   "source": [
    "dfs(graph, 'a')"
   ]
  },
  {
   "cell_type": "code",
   "execution_count": 50,
   "metadata": {
    "collapsed": true
   },
   "outputs": [],
   "source": [
    "graph = {'a': set(['b']),\n",
    "         'b': set(['a']),\n",
    "         'c': set()}"
   ]
  },
  {
   "cell_type": "code",
   "execution_count": 56,
   "metadata": {},
   "outputs": [],
   "source": [
    "def get_graph_component_dict(graph):\n",
    "    connected_components = {}\n",
    "    hash_dict = {}\n",
    "    c = 1\n",
    "\n",
    "    for v, neighbors in graph.items():\n",
    "        connected_component = dfs(graph, v)\n",
    "        current_hash = hash(frozenset(connected_component))\n",
    "        if current_hash not in hash_dict.keys():\n",
    "            hash_dict[current_hash] = c\n",
    "            c += 1\n",
    "        cc = hash_dict[current_hash]\n",
    "        connected_components[v] = cc\n",
    "\n",
    "    return connected_components"
   ]
  },
  {
   "cell_type": "code",
   "execution_count": 52,
   "metadata": {
    "collapsed": true
   },
   "outputs": [],
   "source": [
    "def prepare_graph(V, E):\n",
    "    graph = {}\n",
    "    for v in V:\n",
    "        Ev = set([])\n",
    "        for e in E:\n",
    "            if v in e:\n",
    "                Ev = Ev.union(set(e))\n",
    "        graph[v] = Ev - set([v])\n",
    "    return graph"
   ]
  },
  {
   "cell_type": "code",
   "execution_count": 58,
   "metadata": {},
   "outputs": [
    {
     "data": {
      "text/plain": [
       "{'a': 2, 'b': 2, 'c': 1, 'd': 2}"
      ]
     },
     "execution_count": 58,
     "metadata": {},
     "output_type": "execute_result"
    }
   ],
   "source": [
    "V = {'a', 'b', 'c', 'd'}\n",
    "E = [['a','b'], ['a', 'd']]\n",
    "\n",
    "get_graph_component_dict(prepare_graph(V, E))"
   ]
  },
  {
   "cell_type": "code",
   "execution_count": null,
   "metadata": {
    "collapsed": true
   },
   "outputs": [],
   "source": []
  }
 ],
 "metadata": {
  "kernelspec": {
   "display_name": "Python 3",
   "language": "python",
   "name": "python3"
  },
  "language_info": {
   "codemirror_mode": {
    "name": "ipython",
    "version": 3
   },
   "file_extension": ".py",
   "mimetype": "text/x-python",
   "name": "python",
   "nbconvert_exporter": "python",
   "pygments_lexer": "ipython3",
   "version": "3.5.2"
  }
 },
 "nbformat": 4,
 "nbformat_minor": 2
}
